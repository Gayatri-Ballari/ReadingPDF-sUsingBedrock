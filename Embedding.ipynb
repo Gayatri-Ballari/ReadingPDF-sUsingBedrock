{
 "cells": [
  {
   "cell_type": "code",
   "execution_count": 10,
   "metadata": {},
   "outputs": [],
   "source": [
    "import boto3\n",
    "import os\n",
    "import json\n",
    "\n",
    "from langchain_community.document_loaders import PyPDFLoader\n",
    "\n",
    "from langchain.text_splitter import RecursiveCharacterTextSplitter\n",
    "\n",
    "from langchain_community.embeddings import BedrockEmbeddings\n",
    "\n",
    "from langchain_community.vectorstores import FAISS"
   ]
  },
  {
   "cell_type": "code",
   "execution_count": 11,
   "metadata": {},
   "outputs": [],
   "source": [
    "# Load the JSON file\n",
    "with open(\"aws_credentials.json\", \"r\", encoding=\"utf-8-sig\") as file:\n",
    "    data = file.read()  # Read the file content\n",
    "    credentials = json.loads(data) \n",
    "\n",
    "# Extract credentials\n",
    "aws_access_key_id = credentials[\"aws_access_key_id\"]\n",
    "aws_secret_access_key = credentials[\"aws_secret_access_key\"]"
   ]
  },
  {
   "cell_type": "code",
   "execution_count": 12,
   "metadata": {},
   "outputs": [],
   "source": [
    "SERVICE_NAME = 'bedrock-runtime'\n",
    "REGION_NAME = 'ap-south-1'\n",
    "\n",
    "bedrock = boto3.client(\n",
    " service_name=SERVICE_NAME,\n",
    " region_name=REGION_NAME,\n",
    " aws_access_key_id=aws_access_key_id,\n",
    " aws_secret_access_key=aws_secret_access_key)"
   ]
  },
  {
   "cell_type": "code",
   "execution_count": 13,
   "metadata": {},
   "outputs": [],
   "source": [
    "bedrock_embeddings = BedrockEmbeddings(model_id=\"amazon.titan-embed-text-v2:0\", client=bedrock)"
   ]
  },
  {
   "cell_type": "code",
   "execution_count": 14,
   "metadata": {},
   "outputs": [],
   "source": [
    "def split_text(pages, chunk_size=1000, overlap=200):\n",
    "    text_splitter = RecursiveCharacterTextSplitter(chunk_size=chunk_size, chunk_overlap=overlap)\n",
    "    docs = text_splitter.split_documents(pages)\n",
    "    return docs"
   ]
  },
  {
   "cell_type": "code",
   "execution_count": 18,
   "metadata": {},
   "outputs": [],
   "source": [
    "def create_vector_store(text_chunks):\n",
    "    vectorstore_faiss = FAISS.from_documents(\n",
    "        text_chunks,\n",
    "        bedrock_embeddings\n",
    "    )\n",
    "\n",
    "    file_name = f\"vectorstore\"\n",
    "\n",
    "    vectorstore_faiss.save_local(\"faiss_index\")\n",
    "    \n",
    "\n",
    "    return True\n"
   ]
  },
  {
   "cell_type": "code",
   "execution_count": 19,
   "metadata": {},
   "outputs": [],
   "source": [
    "upload_file = \"MoM _ HGI 01_06_2025.pdf\"  # Assuming this is the file path or binary data\n",
    "\n",
    "loader = PyPDFLoader(upload_file)\n",
    "pages = loader.load_and_split()\n",
    "\n",
    "split_document = split_text(pages, 1000, 200)\n",
    "\n",
    "response = create_vector_store(split_document)\n"
   ]
  },
  {
   "cell_type": "code",
   "execution_count": null,
   "metadata": {},
   "outputs": [],
   "source": []
  }
 ],
 "metadata": {
  "kernelspec": {
   "display_name": "myVenv",
   "language": "python",
   "name": "python3"
  },
  "language_info": {
   "codemirror_mode": {
    "name": "ipython",
    "version": 3
   },
   "file_extension": ".py",
   "mimetype": "text/x-python",
   "name": "python",
   "nbconvert_exporter": "python",
   "pygments_lexer": "ipython3",
   "version": "3.12.7"
  }
 },
 "nbformat": 4,
 "nbformat_minor": 2
}
